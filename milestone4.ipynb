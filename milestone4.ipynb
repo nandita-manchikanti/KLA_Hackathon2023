{
 "cells": [
  {
   "cell_type": "code",
   "execution_count": 36,
   "metadata": {},
   "outputs": [],
   "source": [
    "import numpy as np\n",
    "polygon=[]\n",
    "template=[]\n",
    "polygonpoints=[]\n",
    "templatepoints=[]"
   ]
  },
  {
   "cell_type": "code",
   "execution_count": 37,
   "metadata": {},
   "outputs": [],
   "source": [
    "input=open(\"Source.txt\",'r')\n",
    "inputlist=input.readlines()\n",
    "length=len(inputlist)\n",
    "\n",
    "header=[]\n",
    "for i in range(8):\n",
    "    header.append(inputlist[i])\n",
    "\n",
    "i=8\n",
    "pointlist=[]\n",
    "while i<(length-3):\n",
    "    pointlist.append(inputlist[i:i+5])\n",
    "    i=i+5\n",
    "\n",
    "footer=[]\n",
    "i=length-2\n",
    "while i<(length):\n",
    "    footer.append(inputlist[i])\n",
    "    i=i+1\n",
    "\n",
    "for item in pointlist:\n",
    "    list=item[3].split()\n",
    "    size=int(list[1])\n",
    "    size=size*2\n",
    "    shape=[]\n",
    "    for i in range(2,len(list)):\n",
    "        shape.append(list[i])\n",
    "    polygon.append(shape)\n",
    "\n",
    "for item in polygon:\n",
    "    length=int(len(item)/2)\n",
    "    polygonpoints.append(np.array(item).reshape(length,2).tolist())"
   ]
  },
  {
   "cell_type": "code",
   "execution_count": 38,
   "metadata": {},
   "outputs": [],
   "source": [
    "input=open(\"POI.txt\",'r')\n",
    "inputlist=input.readlines()\n",
    "length=len(inputlist)\n",
    "\n",
    "header=[]\n",
    "for i in range(8):\n",
    "    header.append(inputlist[i])\n",
    "\n",
    "i=8\n",
    "templatelist=[]\n",
    "while i<(length-3):\n",
    "    templatelist.append(inputlist[i:i+5])\n",
    "    i=i+5\n",
    "\n",
    "footer=[]\n",
    "i=length-2\n",
    "while i<(length):\n",
    "    footer.append(inputlist[i])\n",
    "    i=i+1\n",
    "\n",
    "for item in templatelist:\n",
    "    list=item[3].split()\n",
    "    size=int(list[1])\n",
    "    size=size*2\n",
    "    shape=[]\n",
    "    for i in range(2,len(list)):\n",
    "        shape.append(list[i])\n",
    "    template.append(shape)\n",
    "\n",
    "for item in template:\n",
    "    length=int(len(item)/2)\n",
    "    templatepoints.append(np.array(item).reshape(length,2).tolist())"
   ]
  },
  {
   "cell_type": "code",
   "execution_count": 39,
   "metadata": {},
   "outputs": [
    {
     "name": "stdout",
     "output_type": "stream",
     "text": [
      "[[['2630', '2010'], ['2630', '3000'], ['6320', '3000'], ['6320', '2010'], ['2630', '2010']], [['3970', '-1050'], ['3970', '1480'], ['5040', '1480'], ['5040', '-1050'], ['3970', '-1050']]]\n"
     ]
    }
   ],
   "source": [
    "print(templatepoints)"
   ]
  },
  {
   "cell_type": "code",
   "execution_count": 40,
   "metadata": {},
   "outputs": [],
   "source": [
    "def PolyArea(x,y):\n",
    "    return 0.5*np.abs(np.dot(x,np.roll(y,1))-np.dot(y,np.roll(x,1)))\n",
    "\n",
    "def Area(corners):\n",
    "    n = len(corners) # of corners\n",
    "    area = 0.0\n",
    "    for i in range(n):\n",
    "        j = (i + 1) % n\n",
    "        area += int(corners[i][0]) * int(corners[j][1])\n",
    "        area -= int(corners[j][0]) * int(corners[i][1])\n",
    "    area = abs(area) / 2.0\n",
    "    return area"
   ]
  },
  {
   "cell_type": "code",
   "execution_count": 41,
   "metadata": {},
   "outputs": [],
   "source": [
    "templatearea=[]\n",
    "for template in templatepoints:\n",
    "    templatearea.append(Area(template))\n",
    "\n",
    "polygonarea=[]\n",
    "for polygon in polygonpoints:\n",
    "    polygonarea.append(Area(polygon))\n",
    "\n",
    "src1index=[]\n",
    "src1=[]\n",
    "for i in range(len(polygonarea)):\n",
    "    if (polygonarea[i] == templatearea[0]):\n",
    "        src1.append(polygonpoints[i])\n",
    "        src1index.append(i)\n",
    "\n",
    "src2index=[]\n",
    "src2=[]\n",
    "for i in range(len(polygonarea)):\n",
    "    if (polygonarea[i] == templatearea[1]):\n",
    "        src2.append(polygonpoints[i])\n",
    "        src2index.append(i)"
   ]
  },
  {
   "cell_type": "code",
   "execution_count": 42,
   "metadata": {},
   "outputs": [
    {
     "name": "stdout",
     "output_type": "stream",
     "text": [
      "[3340, 2026, 1987, 3316, 3340]\n"
     ]
    }
   ],
   "source": [
    "import math\n",
    "def distance(x1,y1,x2,y2):\n",
    "    x1=int(x1)\n",
    "    y1=int(y1)\n",
    "    x2=int(x2)\n",
    "    y2=int(y2)\n",
    "    length=math.sqrt(((x2-x1)**2) + ((y2-y1)**2))\n",
    "    return int(length)\n",
    "\n",
    "lengths=[]\n",
    "for i in range(5):\n",
    "    lengths.append(distance(templatepoints[0][i][0],templatepoints[0][i][1],templatepoints[1][i][0],templatepoints[1][i][1]))\n",
    "\n",
    "print(lengths)"
   ]
  },
  {
   "cell_type": "code",
   "execution_count": 50,
   "metadata": {},
   "outputs": [],
   "source": [
    "ans=[]\n",
    "for p1 in range(len(src1)):\n",
    "    for p2 in range(len(src2)):\n",
    "        sides=[]\n",
    "        for i in range(5):\n",
    "            sides.append(distance(src1[p1][i][0],src1[p1][i][1],src2[p2][i][0],src2[p2][i][1]))\n",
    "\n",
    "        #print(sides)\n",
    "        if(set(lengths)==set(sides)):\n",
    "            ans.append(src1index[p1])\n",
    "            ans.append(src2index[p2])\n",
    "            continue"
   ]
  },
  {
   "cell_type": "code",
   "execution_count": 51,
   "metadata": {},
   "outputs": [],
   "source": [
    "out=open(\"milestone4out.txt\",\"w\")\n",
    "for item in header:\n",
    "    out.write(\"%s\" % item)\n",
    "\n",
    "for i in range(len(pointlist)):\n",
    "    if(i in ans):\n",
    "        for j in pointlist[i]:\n",
    "            out.write(\"%s\" % j)\n",
    "\n",
    "for item in footer:\n",
    "    out.write(\"%s\" % item)\n",
    "\n",
    "out.close()"
   ]
  }
 ],
 "metadata": {
  "kernelspec": {
   "display_name": "Python 3",
   "language": "python",
   "name": "python3"
  },
  "language_info": {
   "codemirror_mode": {
    "name": "ipython",
    "version": 3
   },
   "file_extension": ".py",
   "mimetype": "text/x-python",
   "name": "python",
   "nbconvert_exporter": "python",
   "pygments_lexer": "ipython3",
   "version": "3.7.6 (tags/v3.7.6:43364a7ae0, Dec 19 2019, 00:42:30) [MSC v.1916 64 bit (AMD64)]"
  },
  "orig_nbformat": 4,
  "vscode": {
   "interpreter": {
    "hash": "7e069f35c4e2a6ad0012460db159d104f0529f16514f82f09633ef2ce2a12c5e"
   }
  }
 },
 "nbformat": 4,
 "nbformat_minor": 2
}
