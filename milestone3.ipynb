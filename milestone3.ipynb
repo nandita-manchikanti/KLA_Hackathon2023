{
 "cells": [
  {
   "cell_type": "code",
   "execution_count": 1,
   "metadata": {},
   "outputs": [],
   "source": [
    "import numpy as np\n",
    "polygon=[]\n",
    "template=[]\n",
    "polygonpoints=[]\n",
    "templatepoints=[]"
   ]
  },
  {
   "cell_type": "code",
   "execution_count": 2,
   "metadata": {},
   "outputs": [],
   "source": [
    "input=open(\"Source.txt\",'r')\n",
    "inputlist=input.readlines()\n",
    "length=len(inputlist)\n",
    "\n",
    "header=[]\n",
    "for i in range(8):\n",
    "    header.append(inputlist[i])\n",
    "\n",
    "i=8\n",
    "pointlist=[]\n",
    "while i<(length-3):\n",
    "    pointlist.append(inputlist[i:i+5])\n",
    "    i=i+5\n",
    "\n",
    "footer=[]\n",
    "i=length-2\n",
    "while i<(length):\n",
    "    footer.append(inputlist[i])\n",
    "    i=i+1\n",
    "\n",
    "for item in pointlist:\n",
    "    list=item[3].split()\n",
    "    size=int(list[1])\n",
    "    size=size*2\n",
    "    shape=[]\n",
    "    for i in range(2,len(list)):\n",
    "        shape.append(list[i])\n",
    "    polygon.append(shape)\n",
    "\n",
    "for item in polygon:\n",
    "    length=int(len(item)/2)\n",
    "    polygonpoints.append(np.array(item).reshape(length,2).tolist())"
   ]
  },
  {
   "cell_type": "code",
   "execution_count": 3,
   "metadata": {},
   "outputs": [],
   "source": [
    "input=open(\"POI.txt\",'r')\n",
    "inputlist=input.readlines()\n",
    "length=len(inputlist)\n",
    "\n",
    "header=[]\n",
    "for i in range(8):\n",
    "    header.append(inputlist[i])\n",
    "\n",
    "i=8\n",
    "templatelist=[]\n",
    "while i<(length-3):\n",
    "    templatelist.append(inputlist[i:i+5])\n",
    "    i=i+5\n",
    "\n",
    "footer=[]\n",
    "i=length-2\n",
    "while i<(length):\n",
    "    footer.append(inputlist[i])\n",
    "    i=i+1\n",
    "\n",
    "for item in templatelist:\n",
    "    list=item[3].split()\n",
    "    size=int(list[1])\n",
    "    size=size*2\n",
    "    shape=[]\n",
    "    for i in range(2,len(list)):\n",
    "        shape.append(list[i])\n",
    "    template.append(shape)\n",
    "\n",
    "for item in template:\n",
    "    length=int(len(item)/2)\n",
    "    templatepoints.append(np.array(item).reshape(length,2).tolist())"
   ]
  },
  {
   "cell_type": "code",
   "execution_count": 4,
   "metadata": {},
   "outputs": [
    {
     "name": "stdout",
     "output_type": "stream",
     "text": [
      "[[['6280', '5400'], ['6280', '5870'], ['6010', '5870'], ['6010', '6090'], ['6780', '6090'], ['6780', '5870'], ['6470', '5870'], ['6470', '5400'], ['6280', '5400']]]\n"
     ]
    }
   ],
   "source": [
    "print(templatepoints)"
   ]
  },
  {
   "cell_type": "code",
   "execution_count": 5,
   "metadata": {},
   "outputs": [],
   "source": [
    "def PolyArea(x,y):\n",
    "    return 0.5*np.abs(np.dot(x,np.roll(y,1))-np.dot(y,np.roll(x,1)))\n",
    "\n",
    "def Area(corners):\n",
    "    n = len(corners) # of corners\n",
    "    area = 0.0\n",
    "    for i in range(n):\n",
    "        j = (i + 1) % n\n",
    "        area += int(corners[i][0]) * int(corners[j][1])\n",
    "        area -= int(corners[j][0]) * int(corners[i][1])\n",
    "    area = abs(area) / 2.0\n",
    "    return area"
   ]
  },
  {
   "cell_type": "code",
   "execution_count": 6,
   "metadata": {},
   "outputs": [
    {
     "name": "stdout",
     "output_type": "stream",
     "text": [
      "[0, 5, 7, 8, 9, 10, 11, 12, 13, 14, 15, 16, 18, 21, 26, 29]\n"
     ]
    }
   ],
   "source": [
    "templatearea=[]\n",
    "for template in templatepoints:\n",
    "    templatearea.append(Area(template))\n",
    "\n",
    "polygonarea=[]\n",
    "for polygon in polygonpoints:\n",
    "    polygonarea.append(Area(polygon))\n",
    "\n",
    "ans=[]\n",
    "for i in range(len(polygonarea)):\n",
    "    if (polygonarea[i] in templatearea):\n",
    "        ans.append(i)\n",
    "\n",
    "print(ans)\n"
   ]
  },
  {
   "cell_type": "code",
   "execution_count": 7,
   "metadata": {},
   "outputs": [],
   "source": [
    "out=open(\"milestone3out.txt\",\"w\")\n",
    "for item in header:\n",
    "    out.write(\"%s\" % item)\n",
    "\n",
    "for i in range(len(pointlist)):\n",
    "    if(i in ans):\n",
    "        for j in pointlist[i]:\n",
    "            out.write(\"%s\" % j)\n",
    "\n",
    "for item in footer:\n",
    "    out.write(\"%s\" % item)\n",
    "\n",
    "out.close()"
   ]
  }
 ],
 "metadata": {
  "kernelspec": {
   "display_name": "Python 3",
   "language": "python",
   "name": "python3"
  },
  "language_info": {
   "codemirror_mode": {
    "name": "ipython",
    "version": 3
   },
   "file_extension": ".py",
   "mimetype": "text/x-python",
   "name": "python",
   "nbconvert_exporter": "python",
   "pygments_lexer": "ipython3",
   "version": "3.7.6"
  },
  "orig_nbformat": 4,
  "vscode": {
   "interpreter": {
    "hash": "7e069f35c4e2a6ad0012460db159d104f0529f16514f82f09633ef2ce2a12c5e"
   }
  }
 },
 "nbformat": 4,
 "nbformat_minor": 2
}
